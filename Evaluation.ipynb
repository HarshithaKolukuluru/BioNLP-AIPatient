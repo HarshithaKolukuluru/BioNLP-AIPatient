{
 "cells": [
  {
   "cell_type": "code",
   "execution_count": null,
   "id": "8ec1e606-8c9c-4b0d-87b8-bed66b3b1caa",
   "metadata": {},
   "outputs": [],
   "source": [
    "import textstat\n",
    "def response_evaluation(response):\n",
    "    flesch_reading_ease = textstat.flesch_reading_ease(response)\n",
    "    flesch_kincaid_grade = textstat.flesch_kincaid_grade(response)\n",
    "    print(f\"Flesch Reading Ease: {flesch_reading_ease:.2f}\")\n",
    "    print(f\"Flesch-Kincaid Grade Level: {flesch_kincaid_grade:.2f}\")\n",
    "    return flesch_reading_ease, flesch_kincaid_grade"
   ]
  },
  {
   "cell_type": "code",
   "execution_count": null,
   "id": "a031bc24-0fce-402b-b6a6-cf91a01b6e84",
   "metadata": {},
   "outputs": [],
   "source": [
    "patient_admission = { 'SubjectID': '20646', 'AdmissionID': '134727.0'}\n",
    "max_token = 4096\n",
    "doctor_query = input(\"Enter the doctor query\")\n",
    "conversation_history = f\"The patient has ID {patient_admission['SubjectID']}, and the admission ID {patient_admission['AdmissionID']}\"\n",
    "personality_profile = [\"Responsible\", \"Organized\", \"Analytical\",\"Terse\"]"
   ]
  },
  {
   "cell_type": "code",
   "execution_count": null,
   "id": "4f0b518d-2540-4b2e-a0b0-60a028db3bf4",
   "metadata": {},
   "outputs": [],
   "source": [
    "patient_response, conversation_history = session(doctor_query, conversation_history, patient_admission, personality_profile, max_token = 4096)"
   ]
  },
  {
   "cell_type": "code",
   "execution_count": null,
   "id": "8e15d597-49ef-49e0-92f8-a18dd8120e33",
   "metadata": {},
   "outputs": [],
   "source": [
    "response_evaluation(patient_response)"
   ]
  },
  {
   "cell_type": "code",
   "execution_count": null,
   "id": "d962f51d-7ec0-43fb-ae44-470a7ccb4d64",
   "metadata": {},
   "outputs": [
    {
     "name": "stdout",
     "output_type": "stream",
     "text": [
      "Can you describe your main concern or what brought you in today?\n",
      "When did the symptoms start, and have they gotten better or worse since then?\n",
      "Have you experienced anything like this before?\n",
      "Are you currently taking any medications or supplements?\n",
      "Do you have any chronic conditions like diabetes, hypertension, or asthma?\n",
      "On a scale of 1–10, how would you rate the severity of your pain?\n",
      "Is the discomfort constant or does it come and go?\n",
      "Does anything make it better or worse?\n",
      "Are you experiencing any associated symptoms, such as fever, nausea, or fatigue?\n",
      "Do you have any allergies, especially to medications?\n",
      "Is there a family history of similar issues or major illnesses?\n",
      "Do you smoke, drink alcohol, or use recreational drugs?\n",
      "How is your sleep and appetite lately?\n",
      "Have you recently traveled or been exposed to someone who is ill?\n"
     ]
    }
   ],
   "source": [
    "count = 0\n",
    "total_flesch_score = 0\n",
    "total_flesch_kiniad_score = 0\n",
    "with open('QuestionSet.txt', 'r') as file:\n",
    "    for line in file:\n",
    "        # print(line.strip())\n",
    "        doctor_query = line.strip()\n",
    "        print(doctor_query)\n",
    "        patient_admission = { 'SubjectID': '20646', 'AdmissionID': '134727.0'}\n",
    "        conversation_history = f\"The patient has ID {patient_admission['SubjectID']}, and the admission ID {patient_admission['AdmissionID']}\"\n",
    "        personality_profile = [\"Responsible\", \"Organized\", \"Analytical\",\"Terse\"]\n",
    "        patient_response, conversation_history = session(doctor_query, conversation_history, patient_admission, personality_profile, max_token = 4096)\n",
    "        print(patient_response)\n",
    "        flesch_score, flesch_kiniad_score = response_evaluation(patient_response)\n",
    "        total_flesch_score = total_flesch_score + flesch_score\n",
    "        total_flesch_kiniad_score=total_flesch_kiniad_score+flesch_kiniad_score\n",
    "        count++\n",
    "    avg_flesch = total_flesch_score/count\n",
    "    avg_flesch_kincaid = total_flesch_kiniad_score/count\n",
    "    print(f\"Average Flesch Reading Ease: {avg_flesch:.2f}\")\n",
    "    print(f\"Average Flesch-Kincaid Grade Level: {avg_flesch_kincaid:.2f}\")     \n"
   ]
  },
  {
   "cell_type": "code",
   "execution_count": null,
   "id": "990b8f66-3794-4eb6-a24b-df327b2474e8",
   "metadata": {},
   "outputs": [],
   "source": []
  }
 ],
 "metadata": {
  "kernelspec": {
   "display_name": "Python 3 (ipykernel)",
   "language": "python",
   "name": "python3"
  },
  "language_info": {
   "codemirror_mode": {
    "name": "ipython",
    "version": 3
   },
   "file_extension": ".py",
   "mimetype": "text/x-python",
   "name": "python",
   "nbconvert_exporter": "python",
   "pygments_lexer": "ipython3",
   "version": "3.11.0"
  }
 },
 "nbformat": 4,
 "nbformat_minor": 5
}
